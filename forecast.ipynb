{
 "cells": [
  {
   "cell_type": "code",
   "execution_count": 12,
   "id": "9a008ed7-3fea-4ba5-a941-5e5dc223552f",
   "metadata": {},
   "outputs": [],
   "source": [
    "# import libraries\n",
    "import pandas as pd\n",
    "import numpy as np\n",
    "\n",
    "from pandas.plotting import lag_plot\n",
    "from pandas import concat\n",
    "\n",
    "import tensorflow as tf\n",
    "from tensorflow.keras.models import Sequential\n",
    "from tensorflow.keras.layers import Dense, Input, Activation\n",
    "from tensorflow.keras.optimizers import Adam\n",
    "\n",
    "\n",
    "import matplotlib.pyplot as plt\n",
    "import seaborn as sns\n",
    "from statsmodels.tsa.seasonal import seasonal_decompose\n",
    "from statsmodels.graphics.tsaplots import plot_acf, plot_pacf"
   ]
  },
  {
   "cell_type": "code",
   "execution_count": 13,
   "id": "3f983bb2-de3e-4b7c-9ae4-ee927b8a7705",
   "metadata": {},
   "outputs": [],
   "source": [
    "from sklearn.model_selection import train_test_split\n",
    "from sktime.performance_metrics.forecasting import mean_absolute_error, mean_squared_error"
   ]
  },
  {
   "cell_type": "code",
   "execution_count": 14,
   "id": "95fc49dc-6621-4bc9-be76-92862fa03a89",
   "metadata": {},
   "outputs": [],
   "source": [
    "# importing dataset\n",
    "df1 = pd.read_excel(\"./dataset/site1.xlsx\")"
   ]
  },
  {
   "cell_type": "code",
   "execution_count": null,
   "id": "c85a83a2-0077-4976-ab5c-0175390edce6",
   "metadata": {},
   "outputs": [],
   "source": []
  },
  {
   "cell_type": "code",
   "execution_count": 15,
   "id": "e66deef6-14af-4f9d-bab1-01a4010c105b",
   "metadata": {},
   "outputs": [
    {
     "data": {
      "text/plain": [
       "70176"
      ]
     },
     "execution_count": 15,
     "metadata": {},
     "output_type": "execute_result"
    }
   ],
   "source": [
    "# check the length of each dataset\n",
    "len(df1)"
   ]
  },
  {
   "cell_type": "code",
   "execution_count": null,
   "id": "a5968102-6e78-4007-8a96-9b0a42379412",
   "metadata": {},
   "outputs": [],
   "source": []
  },
  {
   "cell_type": "code",
   "execution_count": 16,
   "id": "36ff07bb-9d59-40b3-a0f0-55d5c6b7f120",
   "metadata": {},
   "outputs": [],
   "source": [
    "# Rename Columns\n",
    "df1 = df1.rename(columns={\n",
    "    'Time(year-month-day h:m:s)': 'Timestamp',\n",
    "    'Wind speed at height of 10 meters (m/s)': 'WS_10',\n",
    "    'Wind direction at height of 10 meters (˚)': 'WD_10',\n",
    "    'Wind speed at height of 30 meters (m/s)': 'WS_30',\n",
    "    'Wind direction at height of 30 meters (˚)': 'WD_30',\n",
    "    'Wind speed at height of 50 meters (m/s)': 'WS_50',\n",
    "    'Wind direction at height of 50 meters (˚)': 'WD_50',\n",
    "    'Wind speed - at the height of wheel hub (m/s)': 'WS_hub',\n",
    "    'Wind speed - at the height of wheel hub (˚)': 'WD_hub',\n",
    "    'Air temperature  (°C) ': 'Air_T',\n",
    "    'Atmosphere (hpa)': 'Air_P',\n",
    "    'Relative humidity (%)': 'Air_H',\n",
    "    'Power (MW)': 'Power'\n",
    "})"
   ]
  },
  {
   "cell_type": "code",
   "execution_count": null,
   "id": "886b9a8a-9ddc-4740-bded-35eefac34e63",
   "metadata": {},
   "outputs": [],
   "source": []
  },
  {
   "cell_type": "code",
   "execution_count": 17,
   "id": "cd8995f3-f12f-4b32-8785-9b18418a70a5",
   "metadata": {},
   "outputs": [],
   "source": [
    "df1['Timestamp'] = pd.to_datetime(df1['Timestamp'])"
   ]
  },
  {
   "cell_type": "code",
   "execution_count": 18,
   "id": "e6be3ce9-d81a-41be-8481-c202b3797dc7",
   "metadata": {},
   "outputs": [],
   "source": [
    "df1.set_index('Timestamp', inplace=True)"
   ]
  },
  {
   "cell_type": "code",
   "execution_count": null,
   "id": "f69bd9c5-d278-47cc-b737-d4bc5dfc5563",
   "metadata": {},
   "outputs": [],
   "source": []
  },
  {
   "cell_type": "code",
   "execution_count": 19,
   "id": "9cd852f8-2028-4153-a2d1-42c7890a1879",
   "metadata": {},
   "outputs": [
    {
     "data": {
      "text/html": [
       "<div>\n",
       "<style scoped>\n",
       "    .dataframe tbody tr th:only-of-type {\n",
       "        vertical-align: middle;\n",
       "    }\n",
       "\n",
       "    .dataframe tbody tr th {\n",
       "        vertical-align: top;\n",
       "    }\n",
       "\n",
       "    .dataframe thead th {\n",
       "        text-align: right;\n",
       "    }\n",
       "</style>\n",
       "<table border=\"1\" class=\"dataframe\">\n",
       "  <thead>\n",
       "    <tr style=\"text-align: right;\">\n",
       "      <th></th>\n",
       "      <th>WS_10</th>\n",
       "      <th>WD_10</th>\n",
       "      <th>WS_30</th>\n",
       "      <th>WD_30</th>\n",
       "      <th>WS_50</th>\n",
       "      <th>WD_50</th>\n",
       "      <th>WS_hub</th>\n",
       "      <th>WD_hub</th>\n",
       "      <th>Air_T</th>\n",
       "      <th>Air_P</th>\n",
       "      <th>Air_H</th>\n",
       "      <th>Power</th>\n",
       "    </tr>\n",
       "    <tr>\n",
       "      <th>Timestamp</th>\n",
       "      <th></th>\n",
       "      <th></th>\n",
       "      <th></th>\n",
       "      <th></th>\n",
       "      <th></th>\n",
       "      <th></th>\n",
       "      <th></th>\n",
       "      <th></th>\n",
       "      <th></th>\n",
       "      <th></th>\n",
       "      <th></th>\n",
       "      <th></th>\n",
       "    </tr>\n",
       "  </thead>\n",
       "  <tbody>\n",
       "    <tr>\n",
       "      <th>2019-01-01 00:00:00</th>\n",
       "      <td>2.209</td>\n",
       "      <td>81.317</td>\n",
       "      <td>1.991</td>\n",
       "      <td>74.814</td>\n",
       "      <td>2.094</td>\n",
       "      <td>77.667</td>\n",
       "      <td>2.494</td>\n",
       "      <td>74.500</td>\n",
       "      <td>-13.484</td>\n",
       "      <td>889.867</td>\n",
       "      <td>76.320</td>\n",
       "      <td>0.254383</td>\n",
       "    </tr>\n",
       "    <tr>\n",
       "      <th>2019-01-01 00:15:00</th>\n",
       "      <td>1.828</td>\n",
       "      <td>77.460</td>\n",
       "      <td>1.698</td>\n",
       "      <td>75.048</td>\n",
       "      <td>1.757</td>\n",
       "      <td>88.733</td>\n",
       "      <td>1.882</td>\n",
       "      <td>74.367</td>\n",
       "      <td>-13.691</td>\n",
       "      <td>889.575</td>\n",
       "      <td>76.757</td>\n",
       "      <td>0.329703</td>\n",
       "    </tr>\n",
       "    <tr>\n",
       "      <th>2019-01-01 00:30:00</th>\n",
       "      <td>2.193</td>\n",
       "      <td>86.700</td>\n",
       "      <td>2.313</td>\n",
       "      <td>84.688</td>\n",
       "      <td>2.344</td>\n",
       "      <td>89.100</td>\n",
       "      <td>2.350</td>\n",
       "      <td>89.000</td>\n",
       "      <td>-13.766</td>\n",
       "      <td>889.942</td>\n",
       "      <td>76.981</td>\n",
       "      <td>0.296306</td>\n",
       "    </tr>\n",
       "    <tr>\n",
       "      <th>2019-01-01 00:45:00</th>\n",
       "      <td>2.654</td>\n",
       "      <td>78.160</td>\n",
       "      <td>2.494</td>\n",
       "      <td>74.939</td>\n",
       "      <td>2.574</td>\n",
       "      <td>87.267</td>\n",
       "      <td>2.808</td>\n",
       "      <td>82.733</td>\n",
       "      <td>-13.691</td>\n",
       "      <td>889.675</td>\n",
       "      <td>76.821</td>\n",
       "      <td>0.187590</td>\n",
       "    </tr>\n",
       "    <tr>\n",
       "      <th>2019-01-01 01:00:00</th>\n",
       "      <td>2.249</td>\n",
       "      <td>94.297</td>\n",
       "      <td>2.192</td>\n",
       "      <td>91.140</td>\n",
       "      <td>2.558</td>\n",
       "      <td>96.900</td>\n",
       "      <td>2.924</td>\n",
       "      <td>92.967</td>\n",
       "      <td>-13.447</td>\n",
       "      <td>890.025</td>\n",
       "      <td>74.571</td>\n",
       "      <td>0.081005</td>\n",
       "    </tr>\n",
       "  </tbody>\n",
       "</table>\n",
       "</div>"
      ],
      "text/plain": [
       "                     WS_10   WD_10  WS_30   WD_30  WS_50   WD_50  WS_hub  \\\n",
       "Timestamp                                                                  \n",
       "2019-01-01 00:00:00  2.209  81.317  1.991  74.814  2.094  77.667   2.494   \n",
       "2019-01-01 00:15:00  1.828  77.460  1.698  75.048  1.757  88.733   1.882   \n",
       "2019-01-01 00:30:00  2.193  86.700  2.313  84.688  2.344  89.100   2.350   \n",
       "2019-01-01 00:45:00  2.654  78.160  2.494  74.939  2.574  87.267   2.808   \n",
       "2019-01-01 01:00:00  2.249  94.297  2.192  91.140  2.558  96.900   2.924   \n",
       "\n",
       "                     WD_hub   Air_T    Air_P   Air_H     Power  \n",
       "Timestamp                                                       \n",
       "2019-01-01 00:00:00  74.500 -13.484  889.867  76.320  0.254383  \n",
       "2019-01-01 00:15:00  74.367 -13.691  889.575  76.757  0.329703  \n",
       "2019-01-01 00:30:00  89.000 -13.766  889.942  76.981  0.296306  \n",
       "2019-01-01 00:45:00  82.733 -13.691  889.675  76.821  0.187590  \n",
       "2019-01-01 01:00:00  92.967 -13.447  890.025  74.571  0.081005  "
      ]
     },
     "execution_count": 19,
     "metadata": {},
     "output_type": "execute_result"
    }
   ],
   "source": [
    "#print top values\n",
    "df1.head()\n",
    "# Frequency - 15 Seconds"
   ]
  },
  {
   "cell_type": "code",
   "execution_count": 20,
   "id": "3c49ca0f-a5f0-46c8-b684-cd4742e40821",
   "metadata": {},
   "outputs": [
    {
     "data": {
      "text/html": [
       "<div>\n",
       "<style scoped>\n",
       "    .dataframe tbody tr th:only-of-type {\n",
       "        vertical-align: middle;\n",
       "    }\n",
       "\n",
       "    .dataframe tbody tr th {\n",
       "        vertical-align: top;\n",
       "    }\n",
       "\n",
       "    .dataframe thead th {\n",
       "        text-align: right;\n",
       "    }\n",
       "</style>\n",
       "<table border=\"1\" class=\"dataframe\">\n",
       "  <thead>\n",
       "    <tr style=\"text-align: right;\">\n",
       "      <th></th>\n",
       "      <th>WS_10</th>\n",
       "      <th>WD_10</th>\n",
       "      <th>WS_30</th>\n",
       "      <th>WD_30</th>\n",
       "      <th>WS_50</th>\n",
       "      <th>WD_50</th>\n",
       "      <th>WS_hub</th>\n",
       "      <th>WD_hub</th>\n",
       "      <th>Air_T</th>\n",
       "      <th>Air_P</th>\n",
       "      <th>Air_H</th>\n",
       "      <th>Power</th>\n",
       "    </tr>\n",
       "    <tr>\n",
       "      <th>Timestamp</th>\n",
       "      <th></th>\n",
       "      <th></th>\n",
       "      <th></th>\n",
       "      <th></th>\n",
       "      <th></th>\n",
       "      <th></th>\n",
       "      <th></th>\n",
       "      <th></th>\n",
       "      <th></th>\n",
       "      <th></th>\n",
       "      <th></th>\n",
       "      <th></th>\n",
       "    </tr>\n",
       "  </thead>\n",
       "  <tbody>\n",
       "    <tr>\n",
       "      <th>2020-12-31 22:45:00</th>\n",
       "      <td>5.738</td>\n",
       "      <td>234.600</td>\n",
       "      <td>6.408</td>\n",
       "      <td>235.454</td>\n",
       "      <td>6.575</td>\n",
       "      <td>242.033</td>\n",
       "      <td>6.680</td>\n",
       "      <td>238.433</td>\n",
       "      <td>-9.108</td>\n",
       "      <td>890.008</td>\n",
       "      <td>53.312</td>\n",
       "      <td>13.633642</td>\n",
       "    </tr>\n",
       "    <tr>\n",
       "      <th>2020-12-31 23:00:00</th>\n",
       "      <td>5.748</td>\n",
       "      <td>229.333</td>\n",
       "      <td>6.231</td>\n",
       "      <td>233.423</td>\n",
       "      <td>6.372</td>\n",
       "      <td>239.800</td>\n",
       "      <td>6.448</td>\n",
       "      <td>236.833</td>\n",
       "      <td>-9.978</td>\n",
       "      <td>889.817</td>\n",
       "      <td>53.877</td>\n",
       "      <td>6.869759</td>\n",
       "    </tr>\n",
       "    <tr>\n",
       "      <th>2020-12-31 23:15:00</th>\n",
       "      <td>4.468</td>\n",
       "      <td>235.133</td>\n",
       "      <td>4.406</td>\n",
       "      <td>253.261</td>\n",
       "      <td>4.381</td>\n",
       "      <td>263.400</td>\n",
       "      <td>4.399</td>\n",
       "      <td>261.733</td>\n",
       "      <td>-9.808</td>\n",
       "      <td>889.825</td>\n",
       "      <td>54.437</td>\n",
       "      <td>4.352931</td>\n",
       "    </tr>\n",
       "    <tr>\n",
       "      <th>2020-12-31 23:30:00</th>\n",
       "      <td>3.730</td>\n",
       "      <td>242.580</td>\n",
       "      <td>3.280</td>\n",
       "      <td>252.492</td>\n",
       "      <td>3.204</td>\n",
       "      <td>268.600</td>\n",
       "      <td>3.446</td>\n",
       "      <td>266.733</td>\n",
       "      <td>-9.633</td>\n",
       "      <td>889.492</td>\n",
       "      <td>54.677</td>\n",
       "      <td>7.185250</td>\n",
       "    </tr>\n",
       "    <tr>\n",
       "      <th>2020-12-31 23:45:00</th>\n",
       "      <td>3.291</td>\n",
       "      <td>243.733</td>\n",
       "      <td>3.311</td>\n",
       "      <td>254.267</td>\n",
       "      <td>3.643</td>\n",
       "      <td>266.733</td>\n",
       "      <td>4.306</td>\n",
       "      <td>268.633</td>\n",
       "      <td>-8.991</td>\n",
       "      <td>889.492</td>\n",
       "      <td>53.381</td>\n",
       "      <td>12.384466</td>\n",
       "    </tr>\n",
       "  </tbody>\n",
       "</table>\n",
       "</div>"
      ],
      "text/plain": [
       "                     WS_10    WD_10  WS_30    WD_30  WS_50    WD_50  WS_hub  \\\n",
       "Timestamp                                                                     \n",
       "2020-12-31 22:45:00  5.738  234.600  6.408  235.454  6.575  242.033   6.680   \n",
       "2020-12-31 23:00:00  5.748  229.333  6.231  233.423  6.372  239.800   6.448   \n",
       "2020-12-31 23:15:00  4.468  235.133  4.406  253.261  4.381  263.400   4.399   \n",
       "2020-12-31 23:30:00  3.730  242.580  3.280  252.492  3.204  268.600   3.446   \n",
       "2020-12-31 23:45:00  3.291  243.733  3.311  254.267  3.643  266.733   4.306   \n",
       "\n",
       "                      WD_hub  Air_T    Air_P   Air_H      Power  \n",
       "Timestamp                                                        \n",
       "2020-12-31 22:45:00  238.433 -9.108  890.008  53.312  13.633642  \n",
       "2020-12-31 23:00:00  236.833 -9.978  889.817  53.877   6.869759  \n",
       "2020-12-31 23:15:00  261.733 -9.808  889.825  54.437   4.352931  \n",
       "2020-12-31 23:30:00  266.733 -9.633  889.492  54.677   7.185250  \n",
       "2020-12-31 23:45:00  268.633 -8.991  889.492  53.381  12.384466  "
      ]
     },
     "execution_count": 20,
     "metadata": {},
     "output_type": "execute_result"
    }
   ],
   "source": [
    "# bottom values\n",
    "df1.tail()"
   ]
  },
  {
   "cell_type": "code",
   "execution_count": null,
   "id": "922d24e1-caf2-445a-a4d8-7bebe6b33f6d",
   "metadata": {},
   "outputs": [],
   "source": []
  },
  {
   "cell_type": "code",
   "execution_count": 21,
   "id": "f0950606-290c-4f2d-b337-1561c5fc7953",
   "metadata": {},
   "outputs": [],
   "source": [
    "FEATURES_TO_USE = ['WS_10', 'WS_30', 'WS_50', 'WS_hub']"
   ]
  },
  {
   "cell_type": "code",
   "execution_count": null,
   "id": "a18aef17-f6b5-4d53-bd1c-b62326aa83b4",
   "metadata": {},
   "outputs": [],
   "source": []
  },
  {
   "cell_type": "code",
   "execution_count": 22,
   "id": "d839c884-c1ac-4e01-8fd9-fa528973a3a0",
   "metadata": {},
   "outputs": [],
   "source": [
    "df_final = df1[FEATURES_TO_USE]\n",
    "df_output = df1[['Power']]"
   ]
  },
  {
   "cell_type": "code",
   "execution_count": null,
   "id": "3ea089a4-1165-4eda-a41c-30d4b40cc89d",
   "metadata": {},
   "outputs": [],
   "source": []
  },
  {
   "cell_type": "code",
   "execution_count": 23,
   "id": "73b3b817-98e2-40cb-8bc2-1a335aecd9b4",
   "metadata": {},
   "outputs": [
    {
     "data": {
      "text/html": [
       "<div>\n",
       "<style scoped>\n",
       "    .dataframe tbody tr th:only-of-type {\n",
       "        vertical-align: middle;\n",
       "    }\n",
       "\n",
       "    .dataframe tbody tr th {\n",
       "        vertical-align: top;\n",
       "    }\n",
       "\n",
       "    .dataframe thead th {\n",
       "        text-align: right;\n",
       "    }\n",
       "</style>\n",
       "<table border=\"1\" class=\"dataframe\">\n",
       "  <thead>\n",
       "    <tr style=\"text-align: right;\">\n",
       "      <th></th>\n",
       "      <th>WS_10</th>\n",
       "      <th>WS_30</th>\n",
       "      <th>WS_50</th>\n",
       "      <th>WS_hub</th>\n",
       "    </tr>\n",
       "    <tr>\n",
       "      <th>Timestamp</th>\n",
       "      <th></th>\n",
       "      <th></th>\n",
       "      <th></th>\n",
       "      <th></th>\n",
       "    </tr>\n",
       "  </thead>\n",
       "  <tbody>\n",
       "    <tr>\n",
       "      <th>2019-01-01 00:00:00</th>\n",
       "      <td>2.209</td>\n",
       "      <td>1.991</td>\n",
       "      <td>2.094</td>\n",
       "      <td>2.494</td>\n",
       "    </tr>\n",
       "    <tr>\n",
       "      <th>2019-01-01 00:15:00</th>\n",
       "      <td>1.828</td>\n",
       "      <td>1.698</td>\n",
       "      <td>1.757</td>\n",
       "      <td>1.882</td>\n",
       "    </tr>\n",
       "    <tr>\n",
       "      <th>2019-01-01 00:30:00</th>\n",
       "      <td>2.193</td>\n",
       "      <td>2.313</td>\n",
       "      <td>2.344</td>\n",
       "      <td>2.350</td>\n",
       "    </tr>\n",
       "    <tr>\n",
       "      <th>2019-01-01 00:45:00</th>\n",
       "      <td>2.654</td>\n",
       "      <td>2.494</td>\n",
       "      <td>2.574</td>\n",
       "      <td>2.808</td>\n",
       "    </tr>\n",
       "    <tr>\n",
       "      <th>2019-01-01 01:00:00</th>\n",
       "      <td>2.249</td>\n",
       "      <td>2.192</td>\n",
       "      <td>2.558</td>\n",
       "      <td>2.924</td>\n",
       "    </tr>\n",
       "  </tbody>\n",
       "</table>\n",
       "</div>"
      ],
      "text/plain": [
       "                     WS_10  WS_30  WS_50  WS_hub\n",
       "Timestamp                                       \n",
       "2019-01-01 00:00:00  2.209  1.991  2.094   2.494\n",
       "2019-01-01 00:15:00  1.828  1.698  1.757   1.882\n",
       "2019-01-01 00:30:00  2.193  2.313  2.344   2.350\n",
       "2019-01-01 00:45:00  2.654  2.494  2.574   2.808\n",
       "2019-01-01 01:00:00  2.249  2.192  2.558   2.924"
      ]
     },
     "execution_count": 23,
     "metadata": {},
     "output_type": "execute_result"
    }
   ],
   "source": [
    "df_final.head()"
   ]
  },
  {
   "cell_type": "code",
   "execution_count": null,
   "id": "66fbe5b3-dedf-404a-9a52-e9504e7f36a9",
   "metadata": {},
   "outputs": [],
   "source": []
  },
  {
   "cell_type": "markdown",
   "id": "0359095a-58d5-421d-be2e-f112ba3f198d",
   "metadata": {},
   "source": [
    "/*------------------------ ADD LAGGED VALUES ---------------------*/"
   ]
  },
  {
   "cell_type": "code",
   "execution_count": 24,
   "id": "b09e39da-4002-4d96-830f-933e343d03c1",
   "metadata": {},
   "outputs": [],
   "source": [
    "# Generate Lagged Values features\n",
    "# data - actual wind data\n",
    "# dataToLag - the output [Power]\n",
    "# lag - number of lags to create\n",
    "# return  - new dataframe with lagged values p-1, p-2, p-3 ...\n",
    "def createLag(data, dataToLag, lag):\n",
    "    \n",
    "    data_lagged = []\n",
    "    for i in range(1, lag+1):\n",
    "        data_lagged.append(dataToLag.shift(i))\n",
    "\n",
    "    dataframe = concat(data_lagged, axis=1).bfill()\n",
    "    columns =  [f'P-{i}' for i in range(1, lag+1)]\n",
    "    dataframe.columns = columns\n",
    "\n",
    "    added_df = concat([data.reset_index(drop=True), dataframe.reset_index(drop=True)], axis=1)\n",
    "    added_df.index = data.index\n",
    "    return added_df\n"
   ]
  },
  {
   "cell_type": "code",
   "execution_count": null,
   "id": "4dc4cabf-4a38-4694-81c4-e267d0be4741",
   "metadata": {},
   "outputs": [],
   "source": []
  },
  {
   "cell_type": "code",
   "execution_count": 243,
   "id": "20f0b298-83d3-4c36-a9ce-84083adcaa91",
   "metadata": {},
   "outputs": [
    {
     "data": {
      "text/html": [
       "<div>\n",
       "<style scoped>\n",
       "    .dataframe tbody tr th:only-of-type {\n",
       "        vertical-align: middle;\n",
       "    }\n",
       "\n",
       "    .dataframe tbody tr th {\n",
       "        vertical-align: top;\n",
       "    }\n",
       "\n",
       "    .dataframe thead th {\n",
       "        text-align: right;\n",
       "    }\n",
       "</style>\n",
       "<table border=\"1\" class=\"dataframe\">\n",
       "  <thead>\n",
       "    <tr style=\"text-align: right;\">\n",
       "      <th></th>\n",
       "      <th>WS_10</th>\n",
       "      <th>WS_30</th>\n",
       "      <th>WS_50</th>\n",
       "      <th>WS_hub</th>\n",
       "      <th>P-1</th>\n",
       "      <th>P-2</th>\n",
       "      <th>P-3</th>\n",
       "      <th>P-4</th>\n",
       "    </tr>\n",
       "    <tr>\n",
       "      <th>Timestamp</th>\n",
       "      <th></th>\n",
       "      <th></th>\n",
       "      <th></th>\n",
       "      <th></th>\n",
       "      <th></th>\n",
       "      <th></th>\n",
       "      <th></th>\n",
       "      <th></th>\n",
       "    </tr>\n",
       "  </thead>\n",
       "  <tbody>\n",
       "    <tr>\n",
       "      <th>2019-01-01 00:00:00</th>\n",
       "      <td>2.209</td>\n",
       "      <td>1.991</td>\n",
       "      <td>2.094</td>\n",
       "      <td>2.494</td>\n",
       "      <td>0.254383</td>\n",
       "      <td>0.254383</td>\n",
       "      <td>0.254383</td>\n",
       "      <td>0.254383</td>\n",
       "    </tr>\n",
       "    <tr>\n",
       "      <th>2019-01-01 00:15:00</th>\n",
       "      <td>1.828</td>\n",
       "      <td>1.698</td>\n",
       "      <td>1.757</td>\n",
       "      <td>1.882</td>\n",
       "      <td>0.254383</td>\n",
       "      <td>0.254383</td>\n",
       "      <td>0.254383</td>\n",
       "      <td>0.254383</td>\n",
       "    </tr>\n",
       "    <tr>\n",
       "      <th>2019-01-01 00:30:00</th>\n",
       "      <td>2.193</td>\n",
       "      <td>2.313</td>\n",
       "      <td>2.344</td>\n",
       "      <td>2.350</td>\n",
       "      <td>0.329703</td>\n",
       "      <td>0.254383</td>\n",
       "      <td>0.254383</td>\n",
       "      <td>0.254383</td>\n",
       "    </tr>\n",
       "    <tr>\n",
       "      <th>2019-01-01 00:45:00</th>\n",
       "      <td>2.654</td>\n",
       "      <td>2.494</td>\n",
       "      <td>2.574</td>\n",
       "      <td>2.808</td>\n",
       "      <td>0.296306</td>\n",
       "      <td>0.329703</td>\n",
       "      <td>0.254383</td>\n",
       "      <td>0.254383</td>\n",
       "    </tr>\n",
       "    <tr>\n",
       "      <th>2019-01-01 01:00:00</th>\n",
       "      <td>2.249</td>\n",
       "      <td>2.192</td>\n",
       "      <td>2.558</td>\n",
       "      <td>2.924</td>\n",
       "      <td>0.187590</td>\n",
       "      <td>0.296306</td>\n",
       "      <td>0.329703</td>\n",
       "      <td>0.254383</td>\n",
       "    </tr>\n",
       "  </tbody>\n",
       "</table>\n",
       "</div>"
      ],
      "text/plain": [
       "                     WS_10  WS_30  WS_50  WS_hub       P-1       P-2  \\\n",
       "Timestamp                                                              \n",
       "2019-01-01 00:00:00  2.209  1.991  2.094   2.494  0.254383  0.254383   \n",
       "2019-01-01 00:15:00  1.828  1.698  1.757   1.882  0.254383  0.254383   \n",
       "2019-01-01 00:30:00  2.193  2.313  2.344   2.350  0.329703  0.254383   \n",
       "2019-01-01 00:45:00  2.654  2.494  2.574   2.808  0.296306  0.329703   \n",
       "2019-01-01 01:00:00  2.249  2.192  2.558   2.924  0.187590  0.296306   \n",
       "\n",
       "                          P-3       P-4  \n",
       "Timestamp                                \n",
       "2019-01-01 00:00:00  0.254383  0.254383  \n",
       "2019-01-01 00:15:00  0.254383  0.254383  \n",
       "2019-01-01 00:30:00  0.254383  0.254383  \n",
       "2019-01-01 00:45:00  0.254383  0.254383  \n",
       "2019-01-01 01:00:00  0.329703  0.254383  "
      ]
     },
     "execution_count": 243,
     "metadata": {},
     "output_type": "execute_result"
    }
   ],
   "source": [
    "df_with_lag = createLag(df_final, df_output, 4)\n",
    "df_with_lag.head()"
   ]
  },
  {
   "cell_type": "code",
   "execution_count": 244,
   "id": "12ada7f7-f8bc-46cb-8a87-e1e3e4c17d10",
   "metadata": {},
   "outputs": [
    {
     "name": "stdout",
     "output_type": "stream",
     "text": [
      "Total Dataset (70176, 8)\n"
     ]
    }
   ],
   "source": [
    "# lagged_df.head()\n",
    "print(\"Total Dataset\",df_with_lag.shape)"
   ]
  },
  {
   "cell_type": "code",
   "execution_count": null,
   "id": "a9a649ea-2864-4046-8be4-66e8c594c557",
   "metadata": {},
   "outputs": [],
   "source": []
  },
  {
   "cell_type": "markdown",
   "id": "1101ba3d-eeb0-4c54-b3b6-b664f9fa692a",
   "metadata": {},
   "source": [
    "/*------------------------ DATA SPLITTING ---------------------*/"
   ]
  },
  {
   "cell_type": "code",
   "execution_count": null,
   "id": "fd79ed9d-9695-4faf-bbbc-613f93ddee86",
   "metadata": {},
   "outputs": [],
   "source": []
  },
  {
   "cell_type": "code",
   "execution_count": 245,
   "id": "e721d87b-b7d2-4ac6-85d2-277e3b44da5b",
   "metadata": {},
   "outputs": [],
   "source": [
    "#select 70% of data\n",
    "index_percent = int(len(df_with_lag) * 0.7)"
   ]
  },
  {
   "cell_type": "code",
   "execution_count": null,
   "id": "af618278-0007-40c3-8ba6-0b2609b8601a",
   "metadata": {},
   "outputs": [],
   "source": []
  },
  {
   "cell_type": "markdown",
   "id": "3941a8ad-1e34-435b-941e-cb9cc9a2948b",
   "metadata": {},
   "source": [
    "/*------------------------ TRAINING DATA ---------------------*/"
   ]
  },
  {
   "cell_type": "code",
   "execution_count": 246,
   "id": "fe5df299-9858-44a3-bdf9-197a35b1d481",
   "metadata": {},
   "outputs": [],
   "source": [
    "# Use 70% data for training\n",
    "trainSetInput = df_with_lag[:index_percent]\n",
    "trainSetOutput = df_output[: index_percent]"
   ]
  },
  {
   "cell_type": "code",
   "execution_count": 247,
   "id": "3f314afc-d468-46ed-8c1d-a8224d0b2171",
   "metadata": {
    "scrolled": true
   },
   "outputs": [
    {
     "name": "stdout",
     "output_type": "stream",
     "text": [
      "Input Train Size: (49123, 8) \n",
      "Output Train Size: (49123, 1)\n",
      "                     WS_10  WS_30  WS_50  WS_hub       P-1       P-2  \\\n",
      "Timestamp                                                              \n",
      "2019-01-01 00:00:00  2.209  1.991  2.094   2.494  0.254383  0.254383   \n",
      "2019-01-01 00:15:00  1.828  1.698  1.757   1.882  0.254383  0.254383   \n",
      "2019-01-01 00:30:00  2.193  2.313  2.344   2.350  0.329703  0.254383   \n",
      "2019-01-01 00:45:00  2.654  2.494  2.574   2.808  0.296306  0.329703   \n",
      "2019-01-01 01:00:00  2.249  2.192  2.558   2.924  0.187590  0.296306   \n",
      "\n",
      "                          P-3       P-4  \n",
      "Timestamp                                \n",
      "2019-01-01 00:00:00  0.254383  0.254383  \n",
      "2019-01-01 00:15:00  0.254383  0.254383  \n",
      "2019-01-01 00:30:00  0.254383  0.254383  \n",
      "2019-01-01 00:45:00  0.254383  0.254383  \n",
      "2019-01-01 01:00:00  0.329703  0.254383  \n"
     ]
    }
   ],
   "source": [
    "print(\"Input Train Size: \"+ str(trainSetInput.shape), \"\\nOutput Train Size: \"+ str(trainSetOutput.shape))\n",
    "print(trainSetInput.head())"
   ]
  },
  {
   "cell_type": "code",
   "execution_count": null,
   "id": "00b05fe9-594d-45c9-8490-173e94b4ad25",
   "metadata": {},
   "outputs": [],
   "source": []
  },
  {
   "cell_type": "markdown",
   "id": "7d7111ba-1dc7-4d5d-8a3e-723d43023459",
   "metadata": {},
   "source": [
    "/*------------------------ TEST DATA ---------------------*/"
   ]
  },
  {
   "cell_type": "code",
   "execution_count": 248,
   "id": "70dd1e6e-2615-4c14-883d-5062ecfb89ba",
   "metadata": {},
   "outputs": [],
   "source": [
    "#Rest 30% for testing \n",
    "testSetInput = df_with_lag[index_percent:]\n",
    "testSetOutput = df_output[index_percent:]"
   ]
  },
  {
   "cell_type": "code",
   "execution_count": 249,
   "id": "7f9b3d82-e18d-4f68-b9f5-224069d318ee",
   "metadata": {
    "scrolled": true
   },
   "outputs": [
    {
     "name": "stdout",
     "output_type": "stream",
     "text": [
      "Input Test Size: (21053, 8) \n",
      "Output Test Size: (21053, 1)\n",
      "                     WS_10  WS_30  WS_50  WS_hub        P-1        P-2  \\\n",
      "Timestamp                                                                \n",
      "2020-05-26 16:45:00  8.125  8.343  8.564   8.688  25.439707  24.755430   \n",
      "2020-05-26 17:00:00  7.428  7.791  8.063   8.404  33.646040  25.439707   \n",
      "2020-05-26 17:15:00  6.360  6.522  7.057   7.468  24.899677  33.646040   \n",
      "2020-05-26 17:30:00  6.147  6.663  7.045   7.527  28.597466  24.899677   \n",
      "2020-05-26 17:45:00  7.389  8.032  8.689   8.602  40.282024  28.597466   \n",
      "\n",
      "                           P-3        P-4  \n",
      "Timestamp                                  \n",
      "2020-05-26 16:45:00  14.561643  16.923567  \n",
      "2020-05-26 17:00:00  24.755430  14.561643  \n",
      "2020-05-26 17:15:00  25.439707  24.755430  \n",
      "2020-05-26 17:30:00  33.646040  25.439707  \n",
      "2020-05-26 17:45:00  24.899677  33.646040  \n"
     ]
    }
   ],
   "source": [
    "print(\"Input Test Size: \"+ str(testSetInput.shape), \"\\nOutput Test Size: \"+ str(testSetOutput.shape))\n",
    "print(testSetInput.head())"
   ]
  },
  {
   "cell_type": "code",
   "execution_count": null,
   "id": "9965d790-7598-40bc-b9a8-d2bcec966a90",
   "metadata": {},
   "outputs": [],
   "source": []
  },
  {
   "cell_type": "markdown",
   "id": "7bacf465-9179-4c32-a383-c49ab944890d",
   "metadata": {},
   "source": [
    "/*------------------------ MODEL CREATION ---------------------*/"
   ]
  },
  {
   "cell_type": "code",
   "execution_count": 250,
   "id": "5f4e586a-de6d-43e4-917d-01f6ee413a2f",
   "metadata": {},
   "outputs": [
    {
     "data": {
      "text/plain": [
       "(49123, 8)"
      ]
     },
     "execution_count": 250,
     "metadata": {},
     "output_type": "execute_result"
    }
   ],
   "source": [
    "trainSetInput.shape"
   ]
  },
  {
   "cell_type": "code",
   "execution_count": 251,
   "id": "9ed31f7e-0470-4ff2-8a42-1011da4b5e53",
   "metadata": {},
   "outputs": [],
   "source": [
    "regModel = Sequential()"
   ]
  },
  {
   "cell_type": "code",
   "execution_count": 252,
   "id": "1c964f3f-1230-4df4-81fa-7a2781f7a775",
   "metadata": {},
   "outputs": [],
   "source": [
    "regModel.add(Input(shape=(8,)))\n",
    "regModel.add(Dense(1, activation=\"relu\"))"
   ]
  },
  {
   "cell_type": "code",
   "execution_count": 253,
   "id": "14a31c0f-1246-400e-a08c-589be292b345",
   "metadata": {},
   "outputs": [
    {
     "data": {
      "text/html": [
       "<pre style=\"white-space:pre;overflow-x:auto;line-height:normal;font-family:Menlo,'DejaVu Sans Mono',consolas,'Courier New',monospace\"><span style=\"font-weight: bold\">Model: \"sequential_6\"</span>\n",
       "</pre>\n"
      ],
      "text/plain": [
       "\u001b[1mModel: \"sequential_6\"\u001b[0m\n"
      ]
     },
     "metadata": {},
     "output_type": "display_data"
    },
    {
     "data": {
      "text/html": [
       "<pre style=\"white-space:pre;overflow-x:auto;line-height:normal;font-family:Menlo,'DejaVu Sans Mono',consolas,'Courier New',monospace\">┏━━━━━━━━━━━━━━━━━━━━━━━━━━━━━━━━━┳━━━━━━━━━━━━━━━━━━━━━━━━┳━━━━━━━━━━━━━━━┓\n",
       "┃<span style=\"font-weight: bold\"> Layer (type)                    </span>┃<span style=\"font-weight: bold\"> Output Shape           </span>┃<span style=\"font-weight: bold\">       Param # </span>┃\n",
       "┡━━━━━━━━━━━━━━━━━━━━━━━━━━━━━━━━━╇━━━━━━━━━━━━━━━━━━━━━━━━╇━━━━━━━━━━━━━━━┩\n",
       "│ dense_6 (<span style=\"color: #0087ff; text-decoration-color: #0087ff\">Dense</span>)                 │ (<span style=\"color: #00d7ff; text-decoration-color: #00d7ff\">None</span>, <span style=\"color: #00af00; text-decoration-color: #00af00\">1</span>)              │             <span style=\"color: #00af00; text-decoration-color: #00af00\">9</span> │\n",
       "└─────────────────────────────────┴────────────────────────┴───────────────┘\n",
       "</pre>\n"
      ],
      "text/plain": [
       "┏━━━━━━━━━━━━━━━━━━━━━━━━━━━━━━━━━┳━━━━━━━━━━━━━━━━━━━━━━━━┳━━━━━━━━━━━━━━━┓\n",
       "┃\u001b[1m \u001b[0m\u001b[1mLayer (type)                   \u001b[0m\u001b[1m \u001b[0m┃\u001b[1m \u001b[0m\u001b[1mOutput Shape          \u001b[0m\u001b[1m \u001b[0m┃\u001b[1m \u001b[0m\u001b[1m      Param #\u001b[0m\u001b[1m \u001b[0m┃\n",
       "┡━━━━━━━━━━━━━━━━━━━━━━━━━━━━━━━━━╇━━━━━━━━━━━━━━━━━━━━━━━━╇━━━━━━━━━━━━━━━┩\n",
       "│ dense_6 (\u001b[38;5;33mDense\u001b[0m)                 │ (\u001b[38;5;45mNone\u001b[0m, \u001b[38;5;34m1\u001b[0m)              │             \u001b[38;5;34m9\u001b[0m │\n",
       "└─────────────────────────────────┴────────────────────────┴───────────────┘\n"
      ]
     },
     "metadata": {},
     "output_type": "display_data"
    },
    {
     "data": {
      "text/html": [
       "<pre style=\"white-space:pre;overflow-x:auto;line-height:normal;font-family:Menlo,'DejaVu Sans Mono',consolas,'Courier New',monospace\"><span style=\"font-weight: bold\"> Total params: </span><span style=\"color: #00af00; text-decoration-color: #00af00\">9</span> (36.00 B)\n",
       "</pre>\n"
      ],
      "text/plain": [
       "\u001b[1m Total params: \u001b[0m\u001b[38;5;34m9\u001b[0m (36.00 B)\n"
      ]
     },
     "metadata": {},
     "output_type": "display_data"
    },
    {
     "data": {
      "text/html": [
       "<pre style=\"white-space:pre;overflow-x:auto;line-height:normal;font-family:Menlo,'DejaVu Sans Mono',consolas,'Courier New',monospace\"><span style=\"font-weight: bold\"> Trainable params: </span><span style=\"color: #00af00; text-decoration-color: #00af00\">9</span> (36.00 B)\n",
       "</pre>\n"
      ],
      "text/plain": [
       "\u001b[1m Trainable params: \u001b[0m\u001b[38;5;34m9\u001b[0m (36.00 B)\n"
      ]
     },
     "metadata": {},
     "output_type": "display_data"
    },
    {
     "data": {
      "text/html": [
       "<pre style=\"white-space:pre;overflow-x:auto;line-height:normal;font-family:Menlo,'DejaVu Sans Mono',consolas,'Courier New',monospace\"><span style=\"font-weight: bold\"> Non-trainable params: </span><span style=\"color: #00af00; text-decoration-color: #00af00\">0</span> (0.00 B)\n",
       "</pre>\n"
      ],
      "text/plain": [
       "\u001b[1m Non-trainable params: \u001b[0m\u001b[38;5;34m0\u001b[0m (0.00 B)\n"
      ]
     },
     "metadata": {},
     "output_type": "display_data"
    }
   ],
   "source": [
    "regModel.summary()"
   ]
  },
  {
   "cell_type": "code",
   "execution_count": null,
   "id": "8690a252-21f0-4d7e-b50b-7dd65bc5d521",
   "metadata": {},
   "outputs": [],
   "source": []
  },
  {
   "cell_type": "code",
   "execution_count": 254,
   "id": "362bba28-248e-419d-9378-8ed09cd864a0",
   "metadata": {},
   "outputs": [],
   "source": [
    "regModel.compile(optimizer=Adam(learning_rate=0.005), loss='mse')"
   ]
  },
  {
   "cell_type": "code",
   "execution_count": null,
   "id": "7b6ebb20-d825-432a-895e-a0524edf4338",
   "metadata": {},
   "outputs": [],
   "source": []
  },
  {
   "cell_type": "markdown",
   "id": "96bd8faf-58ad-4ef6-95da-45f089eae3b4",
   "metadata": {},
   "source": [
    "/*------------- MODEL TRAINING ------------------*/"
   ]
  },
  {
   "cell_type": "code",
   "execution_count": null,
   "id": "4b207d6e-e3aa-4561-aa87-2ecfd51de159",
   "metadata": {},
   "outputs": [],
   "source": []
  },
  {
   "cell_type": "code",
   "execution_count": 255,
   "id": "effde7f2-20c4-484f-941a-9e221b22ccd6",
   "metadata": {},
   "outputs": [
    {
     "name": "stdout",
     "output_type": "stream",
     "text": [
      "Epoch 1/10\n",
      "\u001b[1m3071/3071\u001b[0m \u001b[32m━━━━━━━━━━━━━━━━━━━━\u001b[0m\u001b[37m\u001b[0m \u001b[1m1s\u001b[0m 161us/step - loss: 106.9136\n",
      "Epoch 2/10\n",
      "\u001b[1m3071/3071\u001b[0m \u001b[32m━━━━━━━━━━━━━━━━━━━━\u001b[0m\u001b[37m\u001b[0m \u001b[1m0s\u001b[0m 155us/step - loss: 18.6545\n",
      "Epoch 3/10\n",
      "\u001b[1m3071/3071\u001b[0m \u001b[32m━━━━━━━━━━━━━━━━━━━━\u001b[0m\u001b[37m\u001b[0m \u001b[1m0s\u001b[0m 155us/step - loss: 17.4823\n",
      "Epoch 4/10\n",
      "\u001b[1m3071/3071\u001b[0m \u001b[32m━━━━━━━━━━━━━━━━━━━━\u001b[0m\u001b[37m\u001b[0m \u001b[1m0s\u001b[0m 155us/step - loss: 18.9173\n",
      "Epoch 5/10\n",
      "\u001b[1m3071/3071\u001b[0m \u001b[32m━━━━━━━━━━━━━━━━━━━━\u001b[0m\u001b[37m\u001b[0m \u001b[1m0s\u001b[0m 154us/step - loss: 17.9600\n",
      "Epoch 6/10\n",
      "\u001b[1m3071/3071\u001b[0m \u001b[32m━━━━━━━━━━━━━━━━━━━━\u001b[0m\u001b[37m\u001b[0m \u001b[1m0s\u001b[0m 154us/step - loss: 18.1758\n",
      "Epoch 7/10\n",
      "\u001b[1m3071/3071\u001b[0m \u001b[32m━━━━━━━━━━━━━━━━━━━━\u001b[0m\u001b[37m\u001b[0m \u001b[1m0s\u001b[0m 154us/step - loss: 18.0529\n",
      "Epoch 8/10\n",
      "\u001b[1m3071/3071\u001b[0m \u001b[32m━━━━━━━━━━━━━━━━━━━━\u001b[0m\u001b[37m\u001b[0m \u001b[1m0s\u001b[0m 153us/step - loss: 17.2477\n",
      "Epoch 9/10\n",
      "\u001b[1m3071/3071\u001b[0m \u001b[32m━━━━━━━━━━━━━━━━━━━━\u001b[0m\u001b[37m\u001b[0m \u001b[1m0s\u001b[0m 154us/step - loss: 18.4683\n",
      "Epoch 10/10\n",
      "\u001b[1m3071/3071\u001b[0m \u001b[32m━━━━━━━━━━━━━━━━━━━━\u001b[0m\u001b[37m\u001b[0m \u001b[1m1s\u001b[0m 162us/step - loss: 17.2725\n"
     ]
    }
   ],
   "source": [
    "train = regModel.fit(trainSetInput, \n",
    "                    trainSetOutput, \n",
    "                    batch_size=16, \n",
    "                    epochs=10, \n",
    "                    )"
   ]
  },
  {
   "cell_type": "code",
   "execution_count": null,
   "id": "e401b993-fc10-4731-bb9e-f9cbdd033d82",
   "metadata": {},
   "outputs": [],
   "source": []
  },
  {
   "cell_type": "code",
   "execution_count": 256,
   "id": "e095ee6e-9eac-4cd5-bf14-c2c5098376b7",
   "metadata": {},
   "outputs": [],
   "source": [
    "# Plot the loss for the training data\n",
    "# history - model training\n",
    "def plot_loss(history):\n",
    "    plt.figure(figsize=(20,5))\n",
    "    plt.plot(history.history['loss'], 'g', label='Training Loss')\n",
    "    plt.xlim([0, 40])\n",
    "    plt.ylim([0, 150])\n",
    "    plt.xlabel('Epoch')\n",
    "    plt.ylabel('Loss')\n",
    "    plt.legend()\n",
    "    plt.grid(True)"
   ]
  },
  {
   "cell_type": "code",
   "execution_count": 257,
   "id": "9bb8ef3d-f414-47a1-a0f1-389ffda7c00c",
   "metadata": {},
   "outputs": [
    {
     "data": {
      "image/png": "[encoded data removed]",
      "text/plain": [
       "<Figure size 2000x500 with 1 Axes>"
      ]
     },
     "metadata": {},
     "output_type": "display_data"
    }
   ],
   "source": [
    "plot_loss(train)"
   ]
  },
  {
   "cell_type": "code",
   "execution_count": null,
   "id": "adc60373-da31-47b5-8241-739f117100e6",
   "metadata": {},
   "outputs": [],
   "source": []
  },
  {
   "cell_type": "markdown",
   "id": "c2dcf971-5aa1-4ebe-ae06-10e7722c3362",
   "metadata": {},
   "source": [
    "/*------------- MODEL PREDICTION ------------------*/"
   ]
  },
  {
   "cell_type": "code",
   "execution_count": 258,
   "id": "75545936-b40d-414f-9776-49005d1e8c9b",
   "metadata": {},
   "outputs": [
    {
     "data": {
      "text/plain": [
       "(21053, 8)"
      ]
     },
     "execution_count": 258,
     "metadata": {},
     "output_type": "execute_result"
    }
   ],
   "source": [
    "testSetInput.shape"
   ]
  },
  {
   "cell_type": "code",
   "execution_count": 259,
   "id": "38022668-d22d-45cd-8b54-82e229945c17",
   "metadata": {},
   "outputs": [],
   "source": [
    "# Returns the Forecast Predictions\n",
    "# data - the test data\n",
    "# model - the training model used\n",
    "# return - the prediction list\n",
    "def forecast(data, model):\n",
    "    \n",
    "    predictions = model.predict(data)\n",
    "    return predictions"
   ]
  },
  {
   "cell_type": "code",
   "execution_count": null,
   "id": "9e86487d-5ac1-45b7-a9c4-f5d997e9e352",
   "metadata": {},
   "outputs": [],
   "source": []
  },
  {
   "cell_type": "code",
   "execution_count": 260,
   "id": "344d550f-f81d-4822-87ee-e70b54e0ddb1",
   "metadata": {},
   "outputs": [],
   "source": [
    "# forecast(trainInputVal, regModel)"
   ]
  },
  {
   "cell_type": "code",
   "execution_count": null,
   "id": "573e92de-1ba5-483b-a1da-29dd18241728",
   "metadata": {},
   "outputs": [],
   "source": []
  },
  {
   "cell_type": "code",
   "execution_count": 261,
   "id": "a7a82bd7-2e72-440d-8654-0b201d319de3",
   "metadata": {},
   "outputs": [],
   "source": [
    "# Get No of steps to predict in the future\n",
    "#forecastPeriod - No of hours to forecast\n",
    "# samplingRate - The sampling rate of the data\n",
    "# return - no of steps required for forecasting period\n",
    "def stepCount(forecastPeriod, samplingRate):\n",
    "\n",
    "    #Convert Hours to minutes\n",
    "    forecast_minutes = forecastPeriod * 60\n",
    "\n",
    "    steps = int(forecast_minutes / samplingRate);\n",
    "    \n",
    "    return steps"
   ]
  },
  {
   "cell_type": "code",
   "execution_count": null,
   "id": "26381f1e-4287-4a08-ba2e-60ae1032ae13",
   "metadata": {},
   "outputs": [],
   "source": []
  },
  {
   "cell_type": "code",
   "execution_count": 272,
   "id": "cd7906c2-64fb-4f9a-91bd-f0cada715cbf",
   "metadata": {},
   "outputs": [],
   "source": [
    "\n",
    "def forecastPrediction(data, windSpeedData, forecastPeriod, samplingRate):\n",
    "    # Start Position - (ws-10, 30, 50, hub, p-1, p-2, p-3, p-4)\n",
    "    startPos = data\n",
    "    # lagVal = [None] *  4\n",
    "\n",
    "    startData = {\n",
    "        'P-1': startPos[\"P-1\"],\n",
    "        'P-2': startPos[\"P-2\"],\n",
    "        'P-3': startPos[\"P-3\"],\n",
    "        'P-4': startPos[\"P-4\"]\n",
    "        }\n",
    "    \n",
    "    startPos = pd.DataFrame(startData)\n",
    "    \n",
    "    # Wind information for timestamps - (ws-10, 30, 50, hub)\n",
    "    windData = windSpeedData\n",
    "    \n",
    "    # No of Steps in future\n",
    "    steps = stepCount(forecastPeriod, samplingRate)\n",
    "\n",
    "    # list to store forecast\n",
    "    forecastResult = []\n",
    "    \n",
    "    for i in range(steps):\n",
    "    \n",
    "        currentPos = concat([windData.iloc[[i]].reset_index(drop=True), startPos.reset_index(drop=True)], axis=1)\n",
    "    \n",
    "        pred = forecast(currentPos, regModel) #return - Power for currentPos\n",
    "\n",
    "        # Assigning t lab to t-1 for older values\n",
    "        startPos[\"P-4\"] = startPos[\"P-3\"]\n",
    "        startPos[\"P-3\"] = startPos[\"P-2\"] \n",
    "        startPos[\"P-2\"] = startPos[\"P-1\"]\n",
    "        startPos[\"P-1\"] = pred[0][0]\n",
    "\n",
    "        forecastResult.append(pred[0][0])\n",
    "    \n",
    "    return forecastResult"
   ]
  },
  {
   "cell_type": "code",
   "execution_count": null,
   "id": "7a7cf63d-d0bd-4ccf-95eb-56491a780089",
   "metadata": {},
   "outputs": [],
   "source": []
  },
  {
   "cell_type": "code",
   "execution_count": 269,
   "id": "1c7176aa-ae94-46b9-90f0-cd15807999ad",
   "metadata": {},
   "outputs": [
    {
     "name": "stdout",
     "output_type": "stream",
     "text": [
      "                     WS_10  WS_30  WS_50  WS_hub        P-1       P-2  \\\n",
      "Timestamp                                                               \n",
      "2020-05-26 16:45:00  8.125  8.343  8.564   8.688  25.439707  24.75543   \n",
      "\n",
      "                           P-3        P-4  \n",
      "Timestamp                                  \n",
      "2020-05-26 16:45:00  14.561643  16.923567  \n"
     ]
    },
    {
     "data": {
      "text/html": [
       "<div>\n",
       "<style scoped>\n",
       "    .dataframe tbody tr th:only-of-type {\n",
       "        vertical-align: middle;\n",
       "    }\n",
       "\n",
       "    .dataframe tbody tr th {\n",
       "        vertical-align: top;\n",
       "    }\n",
       "\n",
       "    .dataframe thead th {\n",
       "        text-align: right;\n",
       "    }\n",
       "</style>\n",
       "<table border=\"1\" class=\"dataframe\">\n",
       "  <thead>\n",
       "    <tr style=\"text-align: right;\">\n",
       "      <th></th>\n",
       "      <th>WS_10</th>\n",
       "      <th>WS_30</th>\n",
       "      <th>WS_50</th>\n",
       "      <th>WS_hub</th>\n",
       "    </tr>\n",
       "    <tr>\n",
       "      <th>Timestamp</th>\n",
       "      <th></th>\n",
       "      <th></th>\n",
       "      <th></th>\n",
       "      <th></th>\n",
       "    </tr>\n",
       "  </thead>\n",
       "  <tbody>\n",
       "    <tr>\n",
       "      <th>2020-05-26 16:45:00</th>\n",
       "      <td>8.125</td>\n",
       "      <td>8.343</td>\n",
       "      <td>8.564</td>\n",
       "      <td>8.688</td>\n",
       "    </tr>\n",
       "    <tr>\n",
       "      <th>2020-05-26 17:00:00</th>\n",
       "      <td>7.428</td>\n",
       "      <td>7.791</td>\n",
       "      <td>8.063</td>\n",
       "      <td>8.404</td>\n",
       "    </tr>\n",
       "    <tr>\n",
       "      <th>2020-05-26 17:15:00</th>\n",
       "      <td>6.360</td>\n",
       "      <td>6.522</td>\n",
       "      <td>7.057</td>\n",
       "      <td>7.468</td>\n",
       "    </tr>\n",
       "    <tr>\n",
       "      <th>2020-05-26 17:30:00</th>\n",
       "      <td>6.147</td>\n",
       "      <td>6.663</td>\n",
       "      <td>7.045</td>\n",
       "      <td>7.527</td>\n",
       "    </tr>\n",
       "    <tr>\n",
       "      <th>2020-05-26 17:45:00</th>\n",
       "      <td>7.389</td>\n",
       "      <td>8.032</td>\n",
       "      <td>8.689</td>\n",
       "      <td>8.602</td>\n",
       "    </tr>\n",
       "  </tbody>\n",
       "</table>\n",
       "</div>"
      ],
      "text/plain": [
       "                     WS_10  WS_30  WS_50  WS_hub\n",
       "Timestamp                                       \n",
       "2020-05-26 16:45:00  8.125  8.343  8.564   8.688\n",
       "2020-05-26 17:00:00  7.428  7.791  8.063   8.404\n",
       "2020-05-26 17:15:00  6.360  6.522  7.057   7.468\n",
       "2020-05-26 17:30:00  6.147  6.663  7.045   7.527\n",
       "2020-05-26 17:45:00  7.389  8.032  8.689   8.602"
      ]
     },
     "execution_count": 269,
     "metadata": {},
     "output_type": "execute_result"
    }
   ],
   "source": [
    "#The starting point with prev 4 Power Forecasts which exists\n",
    "startPos = testSetInput.iloc[[0]] \n",
    "print(startPos.head())\n",
    "\n",
    "# Wind speed forecast from different source can be considered\n",
    "# There will be no power data for future forecasts so removing lags from test set\n",
    "windSpeedData = testSetInput.drop(columns=['P-1', 'P-2', 'P-3', 'P-4']) \n",
    "windSpeedData.head()\n",
    "\n",
    "# concat([windSpeedData, windSpeedData], axis=1)"
   ]
  },
  {
   "cell_type": "code",
   "execution_count": null,
   "id": "a9e7747d-6f19-4206-986e-14ce2b1501a3",
   "metadata": {},
   "outputs": [],
   "source": []
  },
  {
   "cell_type": "code",
   "execution_count": 270,
   "id": "582cdc12-b2ac-46a0-9ef8-409af4e485dc",
   "metadata": {},
   "outputs": [
    {
     "name": "stdout",
     "output_type": "stream",
     "text": [
      "\u001b[1m1/1\u001b[0m \u001b[32m━━━━━━━━━━━━━━━━━━━━\u001b[0m\u001b[37m\u001b[0m \u001b[1m0s\u001b[0m 12ms/step\n",
      "\u001b[1m1/1\u001b[0m \u001b[32m━━━━━━━━━━━━━━━━━━━━\u001b[0m\u001b[37m\u001b[0m \u001b[1m0s\u001b[0m 8ms/step\n",
      "\u001b[1m1/1\u001b[0m \u001b[32m━━━━━━━━━━━━━━━━━━━━\u001b[0m\u001b[37m\u001b[0m \u001b[1m0s\u001b[0m 7ms/step\n",
      "\u001b[1m1/1\u001b[0m \u001b[32m━━━━━━━━━━━━━━━━━━━━\u001b[0m\u001b[37m\u001b[0m \u001b[1m0s\u001b[0m 6ms/step\n",
      "\u001b[1m1/1\u001b[0m \u001b[32m━━━━━━━━━━━━━━━━━━━━\u001b[0m\u001b[37m\u001b[0m \u001b[1m0s\u001b[0m 6ms/step\n",
      "\u001b[1m1/1\u001b[0m \u001b[32m━━━━━━━━━━━━━━━━━━━━\u001b[0m\u001b[37m\u001b[0m \u001b[1m0s\u001b[0m 6ms/step\n",
      "\u001b[1m1/1\u001b[0m \u001b[32m━━━━━━━━━━━━━━━━━━━━\u001b[0m\u001b[37m\u001b[0m \u001b[1m0s\u001b[0m 6ms/step\n",
      "\u001b[1m1/1\u001b[0m \u001b[32m━━━━━━━━━━━━━━━━━━━━\u001b[0m\u001b[37m\u001b[0m \u001b[1m0s\u001b[0m 6ms/step\n",
      "\u001b[1m1/1\u001b[0m \u001b[32m━━━━━━━━━━━━━━━━━━━━\u001b[0m\u001b[37m\u001b[0m \u001b[1m0s\u001b[0m 6ms/step\n",
      "\u001b[1m1/1\u001b[0m \u001b[32m━━━━━━━━━━━━━━━━━━━━\u001b[0m\u001b[37m\u001b[0m \u001b[1m0s\u001b[0m 6ms/step\n",
      "\u001b[1m1/1\u001b[0m \u001b[32m━━━━━━━━━━━━━━━━━━━━\u001b[0m\u001b[37m\u001b[0m \u001b[1m0s\u001b[0m 6ms/step\n",
      "\u001b[1m1/1\u001b[0m \u001b[32m━━━━━━━━━━━━━━━━━━━━\u001b[0m\u001b[37m\u001b[0m \u001b[1m0s\u001b[0m 6ms/step\n",
      "\u001b[1m1/1\u001b[0m \u001b[32m━━━━━━━━━━━━━━━━━━━━\u001b[0m\u001b[37m\u001b[0m \u001b[1m0s\u001b[0m 6ms/step\n",
      "\u001b[1m1/1\u001b[0m \u001b[32m━━━━━━━━━━━━━━━━━━━━\u001b[0m\u001b[37m\u001b[0m \u001b[1m0s\u001b[0m 6ms/step\n",
      "\u001b[1m1/1\u001b[0m \u001b[32m━━━━━━━━━━━━━━━━━━━━\u001b[0m\u001b[37m\u001b[0m \u001b[1m0s\u001b[0m 6ms/step\n",
      "\u001b[1m1/1\u001b[0m \u001b[32m━━━━━━━━━━━━━━━━━━━━\u001b[0m\u001b[37m\u001b[0m \u001b[1m0s\u001b[0m 6ms/step\n",
      "\u001b[1m1/1\u001b[0m \u001b[32m━━━━━━━━━━━━━━━━━━━━\u001b[0m\u001b[37m\u001b[0m \u001b[1m0s\u001b[0m 6ms/step\n",
      "\u001b[1m1/1\u001b[0m \u001b[32m━━━━━━━━━━━━━━━━━━━━\u001b[0m\u001b[37m\u001b[0m \u001b[1m0s\u001b[0m 6ms/step\n",
      "\u001b[1m1/1\u001b[0m \u001b[32m━━━━━━━━━━━━━━━━━━━━\u001b[0m\u001b[37m\u001b[0m \u001b[1m0s\u001b[0m 6ms/step\n",
      "\u001b[1m1/1\u001b[0m \u001b[32m━━━━━━━━━━━━━━━━━━━━\u001b[0m\u001b[37m\u001b[0m \u001b[1m0s\u001b[0m 7ms/step\n",
      "\u001b[1m1/1\u001b[0m \u001b[32m━━━━━━━━━━━━━━━━━━━━\u001b[0m\u001b[37m\u001b[0m \u001b[1m0s\u001b[0m 6ms/step\n",
      "\u001b[1m1/1\u001b[0m \u001b[32m━━━━━━━━━━━━━━━━━━━━\u001b[0m\u001b[37m\u001b[0m \u001b[1m0s\u001b[0m 7ms/step\n",
      "\u001b[1m1/1\u001b[0m \u001b[32m━━━━━━━━━━━━━━━━━━━━\u001b[0m\u001b[37m\u001b[0m \u001b[1m0s\u001b[0m 7ms/step\n",
      "\u001b[1m1/1\u001b[0m \u001b[32m━━━━━━━━━━━━━━━━━━━━\u001b[0m\u001b[37m\u001b[0m \u001b[1m0s\u001b[0m 6ms/step\n"
     ]
    }
   ],
   "source": [
    "# Get Forecast for the start datapoint and windspeeds for next timeperiods\n",
    "predResult = forecastPrediction(startPos, windSpeedData, 6, 15)"
   ]
  },
  {
   "cell_type": "code",
   "execution_count": null,
   "id": "fdf6915f-bf8d-4c8b-96e2-62bfc7456c94",
   "metadata": {},
   "outputs": [],
   "source": []
  },
  {
   "cell_type": "code",
   "execution_count": 283,
   "id": "9ce36147-30d3-465f-9bdb-041cc24d984b",
   "metadata": {},
   "outputs": [],
   "source": [
    "# Plot graphs for actual output and prediction\n",
    "def plotForecastGraph(inputVal, forecastPred):\n",
    "    \n",
    "    plt.plot(inputVal.index, inputVal, color='blue', label='Actual Power')\n",
    "    plt.plot(inputVal.index, forecastPred, color='red', label='Prediction Power')\n",
    "        \n",
    "    plt.xlabel('Index')\n",
    "    plt.ylabel('Output')\n",
    "    plt.title('Actual vs. Predicted Power (MW)')\n",
    "    \n",
    "    plt.legend()\n",
    "    plt.show()"
   ]
  },
  {
   "cell_type": "code",
   "execution_count": 284,
   "id": "2b818f43-279d-4a72-b924-e8c66f7d3c7b",
   "metadata": {},
   "outputs": [
    {
     "data": {
      "image/png": "[encoded data removed]",
      "text/plain": [
       "<Figure size 640x480 with 1 Axes>"
      ]
     },
     "metadata": {},
     "output_type": "display_data"
    }
   ],
   "source": [
    "# # No of Steps\n",
    "#     steps = stepCount(forecastPeriod, samplingRate)\n",
    "\n",
    "plotForecastGraph(testSetOutput[:24], predResult)\n",
    "\n",
    "# plotForecastGraph(testSetOutput[:24], predResult, None)"
   ]
  },
  {
   "cell_type": "code",
   "execution_count": null,
   "id": "3b3845c7-86c3-46f4-b5c6-e2e1eb2640b3",
   "metadata": {},
   "outputs": [],
   "source": []
  },
  {
   "cell_type": "code",
   "execution_count": 279,
   "id": "6136d42b-4c7d-478a-994d-55d399b9561d",
   "metadata": {},
   "outputs": [],
   "source": [
    "def error_metrics(actualData, predResult):\n",
    "    mae = mean_absolute_error(actualData, predResult)\n",
    "    mse = mean_squared_error(actualData, predResult)\n",
    "\n",
    "    print(\"Mean Absolute Error(MAE) for the Dataset: \", mae)\n",
    "    print(\"Mean Squared Error(MSE) for the Dataset: \", mse)"
   ]
  },
  {
   "cell_type": "code",
   "execution_count": null,
   "id": "483054ad-d27a-4d66-8352-f7b6a514e4c7",
   "metadata": {},
   "outputs": [],
   "source": []
  },
  {
   "cell_type": "code",
   "execution_count": 280,
   "id": "e51b6547-6011-4833-a38b-631f4f876305",
   "metadata": {},
   "outputs": [
    {
     "name": "stdout",
     "output_type": "stream",
     "text": [
      "Mean Absolute Error(MAE) for the Dataset:  11.716921996953326\n",
      "Mean Squared Error(MSE) for the Dataset:  192.03699809743512\n"
     ]
    }
   ],
   "source": [
    "error_metrics(testSetOutput[:24], predResult)"
   ]
  },
  {
   "cell_type": "code",
   "execution_count": null,
   "id": "20d55437-d3a6-4637-a8d7-d2591197e96e",
   "metadata": {},
   "outputs": [],
   "source": []
  }
 ],
 "metadata": {
  "kernelspec": {
   "display_name": "Python 3 (ipykernel)",
   "language": "python",
   "name": "python3"
  },
  "language_info": {
   "codemirror_mode": {
    "name": "ipython",
    "version": 3
   },
   "file_extension": ".py",
   "mimetype": "text/x-python",
   "name": "python",
   "nbconvert_exporter": "python",
   "pygments_lexer": "ipython3",
   "version": "3.12.1"
  }
 },
 "nbformat": 4,
 "nbformat_minor": 5
}
